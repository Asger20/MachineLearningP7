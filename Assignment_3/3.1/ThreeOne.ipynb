{
 "cells": [
  {
   "cell_type": "markdown",
   "metadata": {},
   "source": [
    "# 3.1 : Classification"
   ]
  },
  {
   "cell_type": "markdown",
   "metadata": {},
   "source": [
    "First, we import necessary libraries for performing machine learning."
   ]
  },
  {
   "cell_type": "code",
   "execution_count": 11,
   "metadata": {},
   "outputs": [],
   "source": [
    "# Import needed parts of sklearn functionality.\n",
    "from sklearn.neural_network import MLPClassifier\n",
    "from sklearn.datasets import fetch_openml\n",
    "from sklearn.preprocessing import StandardScaler\n",
    "from sklearn.linear_model import LogisticRegression\n",
    "from sklearn.model_selection import train_test_split, cross_val_score\n",
    "from sklearn.metrics import accuracy_score,precision_score,confusion_matrix,classification_report, precision_recall_curve\n",
    "from sklearn.svm import SVC\n",
    "from sklearn.exceptions import ConvergenceWarning\n",
    "\n",
    "# Import other needed libraries.\n",
    "import matplotlib.pyplot as plt\n",
    "import pandas as panda\n",
    "import numpy as np\n",
    "import warnings"
   ]
  },
  {
   "cell_type": "markdown",
   "metadata": {},
   "source": [
    "Then, we read the data to perform the necessary 3.1 parameter tests for our chosen classifier. (In this case cleaned up data is used.)"
   ]
  },
  {
   "cell_type": "code",
   "execution_count": 2,
   "metadata": {},
   "outputs": [],
   "source": [
    "cuisineData = panda.read_csv('cleaned_cuisines.csv')"
   ]
  },
  {
   "cell_type": "code",
   "execution_count": 3,
   "metadata": {},
   "outputs": [
    {
     "name": "stdout",
     "output_type": "stream",
     "text": [
      "<class 'pandas.core.frame.DataFrame'>\n",
      "RangeIndex: 3995 entries, 0 to 3994\n",
      "Columns: 382 entries, Unnamed: 0 to zucchini\n",
      "dtypes: int64(381), object(1)\n",
      "memory usage: 11.6+ MB\n"
     ]
    }
   ],
   "source": [
    "cuisineData.info()"
   ]
  },
  {
   "cell_type": "code",
   "execution_count": 4,
   "metadata": {},
   "outputs": [
    {
     "data": {
      "text/plain": [
       "<Axes: ylabel='cuisine'>"
      ]
     },
     "execution_count": 4,
     "metadata": {},
     "output_type": "execute_result"
    },
    {
     "data": {
      "image/png": "[encoded data removed]",
      "text/plain": [
       "<Figure size 640x480 with 1 Axes>"
      ]
     },
     "metadata": {},
     "output_type": "display_data"
    }
   ],
   "source": [
    "cuisineData.cuisine.value_counts().plot.barh()"
   ]
  },
  {
   "cell_type": "markdown",
   "metadata": {},
   "source": [
    "Then we split the data into training and testing sets."
   ]
  },
  {
   "cell_type": "code",
   "execution_count": 5,
   "metadata": {},
   "outputs": [],
   "source": [
    "cuisines_label_cD = cuisineData['cuisine']\n",
    "cuisines_feature_cD = cuisineData.drop(['Unnamed: 0', 'cuisine'], axis=1)\n",
    "X_train, X_test, y_train, y_test = train_test_split(cuisines_feature_cD, cuisines_label_cD, test_size=0.3, random_state=0)"
   ]
  },
  {
   "cell_type": "markdown",
   "metadata": {},
   "source": [
    "Then we define the ranges for our C parameter, and create a space to store our results."
   ]
  },
  {
   "cell_type": "code",
   "execution_count": 6,
   "metadata": {},
   "outputs": [],
   "source": [
    "c_values = [0.1, 0.5, 1, 10, 100]\n",
    "results = {}"
   ]
  },
  {
   "cell_type": "markdown",
   "metadata": {},
   "source": [
    "Now, we want to loop through our different C parameter values to train our model. We can do this by looping through each C value."
   ]
  },
  {
   "cell_type": "code",
   "execution_count": 7,
   "metadata": {},
   "outputs": [],
   "source": [
    "for C in c_values:\n",
    "    classifier = SVC(kernel='linear', C=C, probability=True, random_state=0)\n",
    "    classifier.fit(X_train, y_train)\n",
    "    y_pred = classifier.predict(X_test)\n",
    "    accuracy = accuracy_score(y_test, y_pred)\n",
    "    results[C] = accuracy"
   ]
  },
  {
   "cell_type": "markdown",
   "metadata": {},
   "source": [
    "Then, to showcase our training results, we print a statement for each parameter value."
   ]
  },
  {
   "cell_type": "code",
   "execution_count": 8,
   "metadata": {},
   "outputs": [
    {
     "name": "stdout",
     "output_type": "stream",
     "text": [
      "Accuracy for C=0.1: 79.5%\n",
      "Accuracy for C=0.5: 80.5%\n",
      "Accuracy for C=1: 80.7%\n",
      "Accuracy for C=10: 80.9%\n",
      "Accuracy for C=100: 79.6%\n"
     ]
    }
   ],
   "source": [
    "for C, accuracy in results.items():\n",
    "    print(\"Accuracy for C=%s: %0.1f%%\" % (C, accuracy * 100))"
   ]
  },
  {
   "cell_type": "markdown",
   "metadata": {},
   "source": [
    "## Max Iterations Parameter Tweak"
   ]
  },
  {
   "cell_type": "markdown",
   "metadata": {},
   "source": [
    "In a desire to do the same as before, we now create a range for the amount of max iterations we wish to tweak."
   ]
  },
  {
   "cell_type": "code",
   "execution_count": 9,
   "metadata": {},
   "outputs": [],
   "source": [
    "max_iter_values = [300, 400, 500, 600, 700]\n",
    "results = {}"
   ]
  },
  {
   "cell_type": "markdown",
   "metadata": {},
   "source": [
    "Then, by looping through the max iteration ranges, we print the tweaked results."
   ]
  },
  {
   "cell_type": "code",
   "execution_count": 14,
   "metadata": {},
   "outputs": [
    {
     "name": "stdout",
     "output_type": "stream",
     "text": [
      "Accuracy for max iterartions at 300: 79.4%\n",
      "Accuracy for max iterartions at 400: 80.0%\n",
      "Accuracy for max iterartions at 500: 80.8%\n",
      "Accuracy for max iterartions at 600: 80.7%\n",
      "Accuracy for max iterartions at 700: 80.7%\n"
     ]
    }
   ],
   "source": [
    "for max_iter in max_iter_values:\n",
    "    classifier = SVC(kernel='linear', max_iter=max_iter, probability=True, random_state=0)\n",
    "    \n",
    "    # Use a context manager to temporarily suppress convergence warnings\n",
    "    with warnings.catch_warnings():\n",
    "        warnings.filterwarnings(\"ignore\", category=ConvergenceWarning)\n",
    "        classifier.fit(X_train, y_train)\n",
    "    \n",
    "    y_pred = classifier.predict(X_test)\n",
    "    accuracy = accuracy_score(y_test, y_pred)\n",
    "    results[max_iter] = accuracy\n",
    "\n",
    "for max_iter, accuracy in results.items():\n",
    "    print(\"Accuracy for max iterartions at %s: %0.1f%%\" % (max_iter, accuracy * 100))"
   ]
  },
  {
   "cell_type": "markdown",
   "metadata": {},
   "source": [
    "## Tolerance Parameter Tweak"
   ]
  },
  {
   "cell_type": "markdown",
   "metadata": {},
   "source": [
    "As with the two previous parameters, we create a range of values for the tolerance."
   ]
  },
  {
   "cell_type": "code",
   "execution_count": 15,
   "metadata": {},
   "outputs": [],
   "source": [
    "tolerances = [1e-1, 1e-2, 1e-3, 1e-4, 1e-10]\n",
    "results = {}"
   ]
  },
  {
   "cell_type": "markdown",
   "metadata": {},
   "source": [
    "Then, as with the previous tweaks, we loop through it and print the results."
   ]
  },
  {
   "cell_type": "code",
   "execution_count": 16,
   "metadata": {},
   "outputs": [
    {
     "name": "stdout",
     "output_type": "stream",
     "text": [
      "Accuracy for tol=0.1: 80.2%\n",
      "Accuracy for tol=0.01: 80.7%\n",
      "Accuracy for tol=0.001: 80.7%\n",
      "Accuracy for tol=0.0001: 80.7%\n",
      "Accuracy for tol=1e-10: 80.7%\n"
     ]
    }
   ],
   "source": [
    "for tol in tolerances:\n",
    "    classifier = SVC(kernel='linear', tol=tol, probability=True, random_state=0)\n",
    "    classifier.fit(X_train, y_train)\n",
    "    y_pred = classifier.predict(X_test)\n",
    "    accuracy = accuracy_score(y_test, y_pred)\n",
    "    results[tol] = accuracy\n",
    "\n",
    "# Print the results\n",
    "for tol, accuracy in results.items():\n",
    "    print(\"Accuracy for tol=%s: %0.1f%%\" % (tol, accuracy * 100))"
   ]
  }
 ],
 "metadata": {
  "kernelspec": {
   "display_name": "base",
   "language": "python",
   "name": "python3"
  },
  "language_info": {
   "codemirror_mode": {
    "name": "ipython",
    "version": 3
   },
   "file_extension": ".py",
   "mimetype": "text/x-python",
   "name": "python",
   "nbconvert_exporter": "python",
   "pygments_lexer": "ipython3",
   "version": "3.11.5"
  }
 },
 "nbformat": 4,
 "nbformat_minor": 2
}
