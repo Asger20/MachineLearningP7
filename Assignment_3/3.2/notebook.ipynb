{
 "cells": [
  {
   "cell_type": "code",
   "execution_count": null,
   "metadata": {},
   "outputs": [],
   "source": []
  },
  {
   "cell_type": "markdown",
   "metadata": {},
   "source": [
    "At the convolutional layers, what is the effect of altering the stride hyperparameter? \n"
   ]
  },
  {
   "cell_type": "markdown",
   "metadata": {},
   "source": [
    "Altering the stride hyperparameter in convolutional layers affects the spatial dimensions of the output feature maps. A larger stride value reduces the size of the feature maps, while a smaller stride increases their size. It's a trade-off between computational efficiency and preserving spatial information. Smaller strides result in more spatial detail but require more computation, while larger strides reduce detail but are computationally more efficient."
   ]
  },
  {
   "cell_type": "markdown",
   "metadata": {},
   "source": [
    "Which layers cause a dimensionalilty reduction? "
   ]
  },
  {
   "cell_type": "markdown",
   "metadata": {},
   "source": [
    "Think of convolutional layers like a special filter that scans an image. If we use a big step, it skips over parts of the image, making it smaller. On the other hand, a small step covers more ground but takes longer.\n",
    "\n",
    "Pooling layers act like zooming out, kind of like when you pinch on a smartphone photo. They make things simpler by summarizing information in smaller areas.\n",
    "\n",
    "Fully connected layers are like laying out all the pieces in a puzzle. It's flat and simple, but it's not a picture anymore.\n",
    "\n",
    "So, in a nutshell, these layers all play a part in simplifying the data, like peeling an onion to find the core information."
   ]
  }
 ],
 "metadata": {
  "language_info": {
   "name": "python"
  }
 },
 "nbformat": 4,
 "nbformat_minor": 2
}
